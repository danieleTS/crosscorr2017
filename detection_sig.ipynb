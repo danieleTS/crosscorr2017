{
 "cells": [
  {
   "cell_type": "markdown",
   "metadata": {},
   "source": [
    "# Estimating the Detection Significance of Galaxy-Forest Cross-Correlations\n",
    "\n",
    "Read in cross-correlatiuons, covariance matrices and null samples"
   ]
  },
  {
   "cell_type": "code",
   "execution_count": 1,
   "metadata": {},
   "outputs": [
    {
     "name": "stderr",
     "output_type": "stream",
     "text": [
      "/Users/kheegan/anaconda/lib/python3.5/site-packages/matplotlib/font_manager.py:280: UserWarning: Matplotlib is building the font cache using fc-list. This may take a moment.\n",
      "  'Matplotlib is building the font cache using fc-list. '\n"
     ]
    }
   ],
   "source": [
    "import numpy as np\n",
    "import copy\n",
    "import time as time\n",
    "import lyafxcorr_kg as xcorr\n",
    "\n",
    "from astropy.cosmology import FlatLambdaCDM\n",
    "from astropy.io import fits\n",
    "from astropy.io import ascii\n",
    "from astropy.table import Table\n",
    "from astropy import units as u\n",
    "\n",
    "# Set up matplotlib and use a nicer set of plot parameters\n",
    "%config InlineBackend.rc = {}\n",
    "import matplotlib as mpl\n",
    "mpl.rc('mathtext',fontset='stixsans')\n",
    "mpl.rc('figure', facecolor=\"white\")\n",
    "#matplotlib.rc_file(\"../../templates/matplotlibrc\")\n",
    "import matplotlib.pyplot as plt\n",
    "import matplotlib.colors as colors\n",
    "%matplotlib inline\n",
    "\n",
    "# Define cosmology\n",
    "cosmo = FlatLambdaCDM(H0=70, Om0=0.31)\n",
    "\n",
    "# Cross-correlation measurements\n",
    "XCorr_3d = np.load(\"xcorr_3dhst_v0.npy\")\n",
    "XCorr_zD = np.load(\"xcorr_zDeep_v0.npy\")\n",
    "XCorr_mosdef = np.load(\"xcorr_mosdef_v0.npy\")\n",
    "XCorr_vuds = np.load(\"xcorr_vuds_v0.npy\")\n",
    "\n",
    "XNull_3d = np.load(\"xcorr_rand_3dhst_v0.npy\")\n",
    "XNull_zD = np.load(\"xcorr_rand_zDeep_v0.npy\")\n",
    "XNull_mosdef = np.load(\"xcorr_rand_mosdef_v0.npy\")\n",
    "XNull_vuds  = np.load(\"xcorr_rand_vuds_v0.npy\")\n",
    "\n",
    "Covar_3d = np.load(\"covar_3dhst_v0.npy\")\n",
    "Covar_zD = np.load(\"covar_zDeep_v0.npy\")\n",
    "Covar_mosdef = np.load(\"covar_mosdef_v0.npy\")\n",
    "Covar_vuds  = np.load(\"covar_vuds_v0.npy\")\n",
    "\n",
    "# Read in bin edges\n",
    "PiBin_fil = 'bins16_pi_0-40hMpc.txt'\n",
    "SigBin_fil = 'bins10_sigma_0-30hMpc.txt'\n",
    "\n",
    "PiBins0 = ascii.read(PiBin_fil)\n",
    "SigBins0 = ascii.read(SigBin_fil)\n",
    "\n",
    "PiEdges = PiBins0['pi_edges'].data\n",
    "SigEdges = SigBins0['sigma_edges'].data\n",
    "\n",
    "# Convert bin boundaries from Mpc/h to Mpc\n",
    "PiEdges  = PiEdges/(len(PiEdges)*[cosmo.h])\n",
    "SigEdges = SigEdges/(len(SigEdges)*[cosmo.h])\n"
   ]
  },
  {
   "cell_type": "markdown",
   "metadata": {},
   "source": [
    "Plot matrix diagonals"
   ]
  },
  {
   "cell_type": "code",
   "execution_count": 2,
   "metadata": {},
   "outputs": [
    {
     "data": {
      "image/png": "[encoded data removed]",
      "text/plain": [
       "<matplotlib.figure.Figure at 0x119cee470>"
      ]
     },
     "metadata": {},
     "output_type": "display_data"
    }
   ],
   "source": [
    "# Plot diagonals of the covariance matrices\n",
    "DiagCov3d = Covar_3d.diagonal()\n",
    "DiagCovzD = np.diagonal(Covar_zD)\n",
    "DiagCovMOS = np.diagonal(Covar_mosdef)\n",
    "\n",
    "NbinX, NbinY = XCorr_3d.shape\n",
    "DiagCov3d = DiagCov3d.reshape([NbinX, NbinY])\n",
    "DiagCovzD = DiagCovzD.reshape([NbinX, NbinY])\n",
    "DiagCovMOS = DiagCovMOS.reshape([NbinX, NbinY])\n",
    "\n",
    "X, Y = np.meshgrid(SigEdges, PiEdges)\n",
    "\n",
    "SigMax = 35.\n",
    "PiMin = -50.\n",
    "PiMax = 50.\n",
    "\n",
    "fig, (ax1, ax2, ax3)= plt.subplots(1,3, figsize=(14,7))\n",
    "\n",
    "pcm=ax1.pcolormesh(X, Y, DiagCovMOS.transpose(),cmap='gray_r'\n",
    "                  ,norm=colors.LogNorm(vmin=1.e-3, vmax=0.2))\n",
    "ax1.set_aspect('equal')\n",
    "ax1.set_xlim(np.min(X), SigMax)\n",
    "ax1.set_ylim(PiMin, PiMax)\n",
    "ax1.set_xlabel(r'$\\sigma\\; (\\mathrm{cMpc})$')\n",
    "ax1.set_ylabel(r'$\\pi\\; (\\mathrm{cMpc})$')\n",
    "ax1.set_title(\"MOSDEF Covariance\")\n",
    "#fig.colorbar(pcm, ax=ax1)\n",
    "\n",
    "pcm=ax2.pcolormesh(X, Y, DiagCovzD.transpose(),cmap='gray_r'\n",
    "                   ,norm=colors.LogNorm(vmin=1.e-3, vmax=0.2))\n",
    "ax2.set_aspect('equal')\n",
    "ax2.set_xlim(np.min(X), SigMax)\n",
    "ax2.set_ylim(PiMin, PiMax)\n",
    "ax2.set_xlabel(r'$\\sigma\\; (\\mathrm{cMpc})$')\n",
    "ax2.set_ylabel(r'$\\pi\\; (\\mathrm{cMpc})$')\n",
    "ax2.set_title(\"zCOSMOS Covariance\")\n",
    "#fig.colorbar(pcm, ax=ax2)\n",
    "\n",
    "pcm=ax3.pcolormesh(X, Y, DiagCov3d.transpose(),cmap='gray_r'\n",
    "                   ,norm=colors.LogNorm(vmin=1.e-2, vmax=0.2))\n",
    "ax3.set_aspect('equal')\n",
    "ax3.set_xlim(np.min(X), SigMax)\n",
    "ax3.set_ylim(PiMin, PiMax)\n",
    "ax3.set_xlabel(r'$\\sigma\\; (\\mathrm{cMpc})$')\n",
    "ax3.set_ylabel(r'$\\pi\\; (\\mathrm{cMpc})$')\n",
    "ax3.set_title(\"3DHST Covariance\")\n",
    "\n",
    "fig.colorbar(pcm, ax=ax3)\n",
    "\n",
    "#fig.subplots_adjust(wspace=-0.1)\n",
    "\n",
    "plt.show()"
   ]
  },
  {
   "cell_type": "markdown",
   "metadata": {},
   "source": [
    "### Estimate MOSDEF Detection Significance"
   ]
  },
  {
   "cell_type": "code",
   "execution_count": 3,
   "metadata": {},
   "outputs": [
    {
     "name": "stdout",
     "output_type": "stream",
     "text": [
      "Condition number =  35849.8650709\n",
      "[ 1.  1.  1.  1.  1.  1.  1.  1.  1.  1.  1.  1.  1.  1.  1.  1.  1.  1.\n",
      "  1.  1.  1.  1.  1.  1.  1.  1.  1.  1.  1.  1.  1.  1.  1.  1.  1.  1.\n",
      "  1.  1.  1.  1.  1.  1.  1.  1.  1.  1.  1.  1.  1.  1.  1.  1.  1.  1.\n",
      "  1.  1.  1.  1.  1.  1.  1.  1.  1.  1.  1.  1.  1.  1.  1.  1.  1.  1.\n",
      "  1.  1.  1.  1.  1.  1.  1.  1.  1.  1.  1.  1.  1.  1.  1.  1.  1.  1.\n",
      "  1.  1.  1.  1.  1.  1.  1.  1.  1.  1.  1.  1.  1.  1.  1.  1.  1.  1.\n",
      "  1.  1.  1.  1.  1.  1.  1.  1.  1.  1.  1.  1.  1.  1.  1.  1.  1.  1.\n",
      "  1.  1.  1.  1.  1.  1.  1.  1.  1.  1.  1.  1.  1.  1.  1.  1.  1.  1.]\n",
      "144.0\n",
      "1.0\n",
      "(144,)\n",
      "-ln(L) =  346.55222779\n",
      "Detection significance = 18.615913 sigma\n"
     ]
    }
   ],
   "source": [
    "Cov = Covar_mosdef\n",
    "\n",
    "#fig, ax= plt.subplots()\n",
    "\n",
    "#print(Cov.shape)\n",
    "#histdata= Cov.reshape(Cov.size)\n",
    "#binwidth=0.001\n",
    "#ax.hist(histdata, bins=np.arange(-0.02,0.02 + binwidth, binwidth))\n",
    "\n",
    "#plt.show()\n",
    "\n",
    "print(\"Condition number = \", np.linalg.cond(Cov))\n",
    "\n",
    "# Invert the covariance matrix, and see if it's a reasonable inversion\n",
    "InvCov = np.linalg.pinv(Cov)\n",
    "\n",
    "UniMat = np.dot(Cov,InvCov)\n",
    "\n",
    "print(UniMat.diagonal())\n",
    "\n",
    "#print(UniMat[10:15, 10:15])\n",
    "print(np.trace(UniMat))\n",
    "print(np.linalg.det(UniMat))\n",
    "\n",
    "# This is the vector of data - model (in this case the randoms)\n",
    "DeltaVec = XCorr_mosdef.reshape(XCorr_mosdef.size) - XNull_mosdef.reshape(XNull_mosdef.size)\n",
    "print(DeltaVec.shape)\n",
    "\n",
    "minusLogL = 0.5 * np.dot(DeltaVec.transpose(), np.dot(InvCov, DeltaVec))\n",
    "print(\"-ln(L) = \", 0.5 * np.dot(DeltaVec.transpose(), np.dot(InvCov, DeltaVec)))\n",
    "\n",
    "print(\"Detection significance = %f sigma\" % np.sqrt(minusLogL))\n",
    "signif_mosdef = np.sqrt(minusLogL)"
   ]
  },
  {
   "cell_type": "markdown",
   "metadata": {},
   "source": [
    "### Estimate zCOSMOS-Deep Detection Significance"
   ]
  },
  {
   "cell_type": "code",
   "execution_count": 4,
   "metadata": {},
   "outputs": [
    {
     "name": "stdout",
     "output_type": "stream",
     "text": [
      "Condition number =  56728.5182138\n",
      "[ 1.  1.  1.  1.  1.  1.  1.  1.  1.  1.  1.  1.  1.  1.  1.  1.  1.  1.\n",
      "  1.  1.  1.  1.  1.  1.  1.  1.  1.  1.  1.  1.  1.  1.  1.  1.  1.  1.\n",
      "  1.  1.  1.  1.  1.  1.  1.  1.  1.  1.  1.  1.  1.  1.  1.  1.  1.  1.\n",
      "  1.  1.  1.  1.  1.  1.  1.  1.  1.  1.  1.  1.  1.  1.  1.  1.  1.  1.\n",
      "  1.  1.  1.  1.  1.  1.  1.  1.  1.  1.  1.  1.  1.  1.  1.  1.  1.  1.\n",
      "  1.  1.  1.  1.  1.  1.  1.  1.  1.  1.  1.  1.  1.  1.  1.  1.  1.  1.\n",
      "  1.  1.  1.  1.  1.  1.  1.  1.  1.  1.  1.  1.  1.  1.  1.  1.  1.  1.\n",
      "  1.  1.  1.  1.  1.  1.  1.  1.  1.  1.  1.  1.  1.  1.  1.  1.  1.  1.]\n",
      "1.0\n",
      "(144,)\n",
      "-ln(L) =  242.076517092\n",
      "Detection significance = 15.558808 sigma\n"
     ]
    }
   ],
   "source": [
    "Cov = Covar_zD\n",
    "\n",
    "print(\"Condition number = \", np.linalg.cond(Cov))\n",
    "\n",
    "# Invert the covariance matrix, and see if it's a reasonable inversion\n",
    "InvCov = np.linalg.pinv(Cov)\n",
    "\n",
    "UniMat = np.dot(Cov,InvCov)\n",
    "\n",
    "print(UniMat.diagonal())\n",
    "\n",
    "#print(UniMat[10:15, 10:15])\n",
    "#print(np.trace(UniMat))\n",
    "print(np.linalg.det(UniMat))\n",
    "\n",
    "# This is the vector of data - model (in this case the randoms)\n",
    "DeltaVec = XCorr_zD.reshape(XCorr_zD.size) - XNull_zD.reshape(XNull_zD.size)\n",
    "print(DeltaVec.shape)\n",
    "\n",
    "minusLogL = 0.5 * np.dot(DeltaVec.transpose(), np.dot(InvCov, DeltaVec))\n",
    "print(\"-ln(L) = \", 0.5 * np.dot(DeltaVec.transpose(), np.dot(InvCov, DeltaVec)))\n",
    "\n",
    "print(\"Detection significance = %f sigma\" % np.sqrt(minusLogL))\n",
    "signif_zD = np.sqrt(minusLogL)"
   ]
  },
  {
   "cell_type": "markdown",
   "metadata": {},
   "source": [
    "### Estimate VUDS Detection Significance"
   ]
  },
  {
   "cell_type": "code",
   "execution_count": 5,
   "metadata": {},
   "outputs": [
    {
     "name": "stdout",
     "output_type": "stream",
     "text": [
      "Condition number =  33392.1831221\n",
      "[ 1.  1.  1.  1.  1.  1.  1.  1.  1.  1.  1.  1.  1.  1.  1.  1.  1.  1.\n",
      "  1.  1.  1.  1.  1.  1.  1.  1.  1.  1.  1.  1.  1.  1.  1.  1.  1.  1.\n",
      "  1.  1.  1.  1.  1.  1.  1.  1.  1.  1.  1.  1.  1.  1.  1.  1.  1.  1.\n",
      "  1.  1.  1.  1.  1.  1.  1.  1.  1.  1.  1.  1.  1.  1.  1.  1.  1.  1.\n",
      "  1.  1.  1.  1.  1.  1.  1.  1.  1.  1.  1.  1.  1.  1.  1.  1.  1.  1.\n",
      "  1.  1.  1.  1.  1.  1.  1.  1.  1.  1.  1.  1.  1.  1.  1.  1.  1.  1.\n",
      "  1.  1.  1.  1.  1.  1.  1.  1.  1.  1.  1.  1.  1.  1.  1.  1.  1.  1.\n",
      "  1.  1.  1.  1.  1.  1.  1.  1.  1.  1.  1.  1.  1.  1.  1.  1.  1.  1.]\n",
      "1.0\n",
      "(144,)\n",
      "-ln(L) =  211.813132343\n",
      "Detection significance = 14.553801 sigma\n"
     ]
    }
   ],
   "source": [
    "Cov = Covar_vuds\n",
    "\n",
    "print(\"Condition number = \", np.linalg.cond(Cov))\n",
    "\n",
    "# Invert the covariance matrix, and see if it's a reasonable inversion\n",
    "InvCov = np.linalg.pinv(Cov)\n",
    "\n",
    "UniMat = np.dot(Cov,InvCov)\n",
    "\n",
    "print(UniMat.diagonal())\n",
    "\n",
    "#print(UniMat[10:15, 10:15])\n",
    "#print(np.trace(UniMat))\n",
    "print(np.linalg.det(UniMat))\n",
    "\n",
    "# This is the vector of data - model (in this case the randoms)\n",
    "DeltaVec = XCorr_vuds.reshape(XCorr_vuds.size) - XNull_vuds.reshape(XNull_vuds.size)\n",
    "print(DeltaVec.shape)\n",
    "\n",
    "minusLogL = 0.5 * np.dot(DeltaVec.transpose(), np.dot(InvCov, DeltaVec))\n",
    "print(\"-ln(L) = \", 0.5 * np.dot(DeltaVec.transpose(), np.dot(InvCov, DeltaVec)))\n",
    "\n",
    "print(\"Detection significance = %f sigma\" % np.sqrt(minusLogL))\n",
    "signif_vuds = np.sqrt(minusLogL)"
   ]
  },
  {
   "cell_type": "markdown",
   "metadata": {},
   "source": [
    "### Estimate 3D-HST Detection Significance"
   ]
  },
  {
   "cell_type": "code",
   "execution_count": 6,
   "metadata": {},
   "outputs": [
    {
     "name": "stdout",
     "output_type": "stream",
     "text": [
      "Condition number =  29613.2750142\n",
      "[ 1.  1.  1.  1.  1.  1.  1.  1.  1.  1.  1.  1.  1.  1.  1.  1.  1.  1.\n",
      "  1.  1.  1.  1.  1.  1.  1.  1.  1.  1.  1.  1.  1.  1.  1.  1.  1.  1.\n",
      "  1.  1.  1.  1.  1.  1.  1.  1.  1.  1.  1.  1.  1.  1.  1.  1.  1.  1.\n",
      "  1.  1.  1.  1.  1.  1.  1.  1.  1.  1.  1.  1.  1.  1.  1.  1.  1.  1.\n",
      "  1.  1.  1.  1.  1.  1.  1.  1.  1.  1.  1.  1.  1.  1.  1.  1.  1.  1.\n",
      "  1.  1.  1.  1.  1.  1.  1.  1.  1.  1.  1.  1.  1.  1.  1.  1.  1.  1.\n",
      "  1.  1.  1.  1.  1.  1.  1.  1.  1.  1.  1.  1.  1.  1.  1.  1.  1.  1.\n",
      "  1.  1.  1.  1.  1.  1.  1.  1.  1.  1.  1.  1.  1.  1.  1.  1.  1.  1.]\n",
      "1.0\n",
      "(144,)\n",
      "-ln(L) =  174.711128852\n",
      "Detection significance = 13.217834 sigma\n"
     ]
    }
   ],
   "source": [
    "Cov = Covar_3d\n",
    "\n",
    "print(\"Condition number = \", np.linalg.cond(Cov))\n",
    "\n",
    "# Invert the covariance matrix, and see if it's a reasonable inversion\n",
    "InvCov = np.linalg.pinv(Cov)\n",
    "\n",
    "UniMat = np.dot(Cov,InvCov)\n",
    "\n",
    "print(UniMat.diagonal())\n",
    "\n",
    "#print(UniMat[10:15, 10:15])\n",
    "#print(np.trace(UniMat))\n",
    "print(np.linalg.det(UniMat))\n",
    "\n",
    "# This is the vector of data - model (in this case the randoms)\n",
    "DeltaVec = XCorr_3d.reshape(XCorr_3d.size) - XNull_3d.reshape(XNull_3d.size)\n",
    "print(DeltaVec.shape)\n",
    "\n",
    "minusLogL = 0.5 * np.dot(DeltaVec.transpose(), np.dot(InvCov, DeltaVec))\n",
    "print(\"-ln(L) = \", 0.5 * np.dot(DeltaVec.transpose(), np.dot(InvCov, DeltaVec)))\n",
    "\n",
    "print(\"Detection significance = %f sigma\" % np.sqrt(minusLogL))\n",
    "signif_3d = np.sqrt(minusLogL)"
   ]
  },
  {
   "cell_type": "code",
   "execution_count": 7,
   "metadata": {},
   "outputs": [
    {
     "name": "stdout",
     "output_type": "stream",
     "text": [
      "Overall Detection Significance=31.227440 sigma\n"
     ]
    }
   ],
   "source": [
    "print(\"Overall Detection Significance=%f sigma\" % np.sqrt(signif_mosdef**2 + signif_zD**2 + signif_vuds**2 + signif_3d**2))"
   ]
  },
  {
   "cell_type": "markdown",
   "metadata": {},
   "source": [
    "Just experimenting with matrix inversion here..."
   ]
  },
  {
   "cell_type": "code",
   "execution_count": 8,
   "metadata": {},
   "outputs": [
    {
     "name": "stdout",
     "output_type": "stream",
     "text": [
      "Condition number = 115.219931806\n",
      "[[  4.46616601  15.8494439    4.6838355   -8.68953434 -11.63583341\n",
      "    0.12337004   4.21430766  -4.8599522    6.71252878  -6.08898317]\n",
      " [  6.43700794  20.51107375   6.16480442  -8.79825081 -12.67697743\n",
      "   -2.30735247   3.85111079 -10.11411911   5.31065418  -5.42168163]\n",
      " [  2.29866343  11.70103481   3.42403349  -7.6420814   -8.02201087\n",
      "   -0.12189284   3.75908197  -3.14806214   6.09833945  -4.54504289]\n",
      " [  5.94079689  25.61052898   8.05122395 -14.65925337 -18.44258399\n",
      "   -0.2585899    7.84363907  -7.72901088  10.66566368  -9.62673469]\n",
      " [  5.74548894  18.82487495   5.91682199  -8.78537723 -11.84343472\n",
      "   -1.56438319   4.03230627  -8.54156133   5.39890336  -5.4348102 ]\n",
      " [  2.02727054   5.49294302   1.07767704  -2.61183655  -2.98452291\n",
      "   -0.1166436    0.90985644  -3.23430676   1.79624019  -1.49498655]\n",
      " [  2.97648339  13.96707443   4.6368635   -8.8203248  -11.00242624\n",
      "    0.92705815   5.54885369  -2.94404725   5.80570667  -5.46930742]\n",
      " [  4.83886835  17.75129676   5.46595904  -8.79658219 -12.1082456\n",
      "   -0.99620986   3.94578206  -6.80628232   6.19273238  -5.56232599]\n",
      " [  4.03078838  17.44114868   5.33716617  -9.45925678 -12.814656\n",
      "   -0.36024538   5.22144117  -4.83338881   7.71919667  -7.20837279]\n",
      " [  4.17779717  14.70176091   3.72603215  -6.6555767  -10.01448283\n",
      "   -1.06336622   3.55119583  -5.92166117   5.44906568  -4.92550176]]\n",
      "3.31820783722\n",
      "1.0\n"
     ]
    }
   ],
   "source": [
    "A=np.random.rand(10,10)\n",
    "print(\"Condition number =\", np.linalg.cond(A))\n",
    "u,s,v=np.linalg.svd(A)\n",
    "Ainv=np.dot(v,np.dot(np.diag(s**-1),u.transpose()))\n",
    "#Ainv = np.linalg.pinv(A)\n",
    "\n",
    "UniMat= np.dot(A, Ainv)\n",
    "\n",
    "print(UniMat)\n",
    "\n",
    "print(np.trace(UniMat))\n",
    "print(np.linalg.det(UniMat))"
   ]
  },
  {
   "cell_type": "markdown",
   "metadata": {
    "collapsed": true
   },
   "source": [
    "### Sanity Check: Comparing Different Null Realizations"
   ]
  },
  {
   "cell_type": "code",
   "execution_count": 9,
   "metadata": {},
   "outputs": [
    {
     "ename": "FileNotFoundError",
     "evalue": "[Errno 2] No such file or directory: 'xcorr_rand0_zDeep_v0.npy'",
     "output_type": "error",
     "traceback": [
      "\u001b[0;31m---------------------------------------------------------------------------\u001b[0m",
      "\u001b[0;31mFileNotFoundError\u001b[0m                         Traceback (most recent call last)",
      "\u001b[0;32m<ipython-input-9-f1dfb105878e>\u001b[0m in \u001b[0;36m<module>\u001b[0;34m()\u001b[0m\n\u001b[1;32m      1\u001b[0m \u001b[0;31m# Read in a few null measurements\u001b[0m\u001b[0;34m\u001b[0m\u001b[0;34m\u001b[0m\u001b[0m\n\u001b[0;32m----> 2\u001b[0;31m \u001b[0mXNull_0\u001b[0m \u001b[0;34m=\u001b[0m \u001b[0mnp\u001b[0m\u001b[0;34m.\u001b[0m\u001b[0mload\u001b[0m\u001b[0;34m(\u001b[0m\u001b[0;34m\"xcorr_rand0_zDeep_v0.npy\"\u001b[0m\u001b[0;34m)\u001b[0m\u001b[0;34m\u001b[0m\u001b[0m\n\u001b[0m\u001b[1;32m      3\u001b[0m \u001b[0mXNull_1\u001b[0m \u001b[0;34m=\u001b[0m \u001b[0mnp\u001b[0m\u001b[0;34m.\u001b[0m\u001b[0mload\u001b[0m\u001b[0;34m(\u001b[0m\u001b[0;34m\"xcorr_rand1_zDeep_v0.npy\"\u001b[0m\u001b[0;34m)\u001b[0m\u001b[0;34m\u001b[0m\u001b[0m\n\u001b[1;32m      4\u001b[0m \u001b[0mXNull_2\u001b[0m \u001b[0;34m=\u001b[0m \u001b[0mnp\u001b[0m\u001b[0;34m.\u001b[0m\u001b[0mload\u001b[0m\u001b[0;34m(\u001b[0m\u001b[0;34m\"xcorr_rand2_zDeep_v0.npy\"\u001b[0m\u001b[0;34m)\u001b[0m\u001b[0;34m\u001b[0m\u001b[0m\n\u001b[1;32m      5\u001b[0m \u001b[0;34m\u001b[0m\u001b[0m\n",
      "\u001b[0;32m/Users/kheegan/anaconda/lib/python3.5/site-packages/numpy/lib/npyio.py\u001b[0m in \u001b[0;36mload\u001b[0;34m(file, mmap_mode, allow_pickle, fix_imports, encoding)\u001b[0m\n\u001b[1;32m    368\u001b[0m     \u001b[0mown_fid\u001b[0m \u001b[0;34m=\u001b[0m \u001b[0;32mFalse\u001b[0m\u001b[0;34m\u001b[0m\u001b[0m\n\u001b[1;32m    369\u001b[0m     \u001b[0;32mif\u001b[0m \u001b[0misinstance\u001b[0m\u001b[0;34m(\u001b[0m\u001b[0mfile\u001b[0m\u001b[0;34m,\u001b[0m \u001b[0mbasestring\u001b[0m\u001b[0;34m)\u001b[0m\u001b[0;34m:\u001b[0m\u001b[0;34m\u001b[0m\u001b[0m\n\u001b[0;32m--> 370\u001b[0;31m         \u001b[0mfid\u001b[0m \u001b[0;34m=\u001b[0m \u001b[0mopen\u001b[0m\u001b[0;34m(\u001b[0m\u001b[0mfile\u001b[0m\u001b[0;34m,\u001b[0m \u001b[0;34m\"rb\"\u001b[0m\u001b[0;34m)\u001b[0m\u001b[0;34m\u001b[0m\u001b[0m\n\u001b[0m\u001b[1;32m    371\u001b[0m         \u001b[0mown_fid\u001b[0m \u001b[0;34m=\u001b[0m \u001b[0;32mTrue\u001b[0m\u001b[0;34m\u001b[0m\u001b[0m\n\u001b[1;32m    372\u001b[0m     \u001b[0;32melif\u001b[0m \u001b[0mis_pathlib_path\u001b[0m\u001b[0;34m(\u001b[0m\u001b[0mfile\u001b[0m\u001b[0;34m)\u001b[0m\u001b[0;34m:\u001b[0m\u001b[0;34m\u001b[0m\u001b[0m\n",
      "\u001b[0;31mFileNotFoundError\u001b[0m: [Errno 2] No such file or directory: 'xcorr_rand0_zDeep_v0.npy'"
     ]
    }
   ],
   "source": [
    "# Read in a few null measurements\n",
    "XNull_0 = np.load(\"xcorr_rand0_zDeep_v0.npy\")\n",
    "XNull_1 = np.load(\"xcorr_rand1_zDeep_v0.npy\")\n",
    "XNull_2 = np.load(\"xcorr_rand2_zDeep_v0.npy\")\n",
    "\n",
    "Cov = Covar_mosdef\n",
    "DiagCov = Cov.diagonal()\n",
    "InvCov = np.linalg.pinv(Cov)\n",
    "\n",
    "Delta0 = XNull_0.reshape(XNull_0.size) - XNull_mosdef.reshape(XNull_zD.size)\n",
    "Delta1 = XNull_1.reshape(XNull_1.size) - XNull_mosdef.reshape(XNull_zD.size)\n",
    "Delta2 = XNull_2.reshape(XNull_2.size) - XNull_mosdef.reshape(XNull_zD.size)\n",
    "\n",
    "print(Delta0.shape, DiagCov.shape)\n",
    "\n",
    "ChiSqDiag0 = np.reshape(Delta0**2/DiagCov, XNull_0.shape)\n",
    "ChiSqDiag1 = np.reshape(Delta1**2/DiagCov, XNull_0.shape)\n",
    "ChiSqDiag2 = np.reshape(Delta2**2/DiagCov, XNull_0.shape)\n",
    "\n",
    "print(\"-ln(L)_0 = \", 0.5 * np.dot(Delta0.transpose(), np.dot(InvCov, Delta0)))\n",
    "print(\"-ln(L)_1 = \", 0.5 * np.dot(Delta1.transpose(), np.dot(InvCov, Delta1)))\n",
    "print(\"-ln(L)_2 = \", 0.5 * np.dot(Delta2.transpose(), np.dot(InvCov, Delta2)))\n",
    "\n",
    "X, Y = np.meshgrid(SigEdges, PiEdges)\n",
    "\n",
    "SigMax = 35.\n",
    "PiMin = -50.\n",
    "PiMax = 50.\n",
    "\n",
    "fig, (ax1, ax2, ax3)= plt.subplots(1,3, figsize=(14,7))\n",
    "\n",
    "ax1.pcolormesh(X, Y, ChiSqDiag0.transpose(), cmap='gray_r' )\n",
    "ax1.set_aspect('equal')\n",
    "ax1.set_xlim(np.min(X), SigMax)\n",
    "ax1.set_ylim(PiMin, PiMax)\n",
    "ax1.set_xlabel(r'$\\sigma\\; (\\mathrm{cMpc})$')\n",
    "ax1.set_ylabel(r'$\\pi\\; (\\mathrm{cMpc})$')\n",
    "#ax1.set_title(\"MOSDEF: %i galaxies\" % len(gal_mosdef))\n",
    "\n",
    "ax2.pcolormesh(X, Y, ChiSqDiag1.transpose(), cmap='gray_r')\n",
    "ax2.set_aspect('equal')\n",
    "ax2.set_xlim(np.min(X), SigMax)\n",
    "ax2.set_ylim(PiMin, PiMax)\n",
    "ax2.set_xlabel(r'$\\sigma\\; (\\mathrm{cMpc})$')\n",
    "ax2.set_ylabel(r'$\\pi\\; (\\mathrm{cMpc})$')\n",
    "#ax2.set_title(\"zCOSMOS: %i galaxies\" % len(gal_zD))\n",
    "\n",
    "pcm=ax3.pcolormesh(X, Y, ChiSqDiag2.transpose(), cmap='gray_r')\n",
    "ax3.set_aspect('equal')\n",
    "ax3.set_xlim(np.min(X), SigMax)\n",
    "ax3.set_ylim(PiMin, PiMax)\n",
    "ax3.set_xlabel(r'$\\sigma\\; (\\mathrm{cMpc})$')\n",
    "ax3.set_ylabel(r'$\\pi\\; (\\mathrm{cMpc})$')\n",
    "#ax3.set_title(\"3DHST: %i galaxies\" % len(gal_3d))\n",
    "\n",
    "fig.colorbar(pcm, ax=ax3)\n",
    "\n",
    "#fig.subplots_adjust(wspace=-0.1)\n",
    "\n",
    "plt.show()"
   ]
  },
  {
   "cell_type": "markdown",
   "metadata": {},
   "source": [
    "The individual null samples are inconsistent with the mean null, when using the covariance matrix. But the latter is determined from the data, so perhaps this makes sense? In other words, the actual data covariances are smaller than would be present from a null sample of the same size?"
   ]
  },
  {
   "cell_type": "code",
   "execution_count": null,
   "metadata": {
    "collapsed": true
   },
   "outputs": [],
   "source": []
  }
 ],
 "metadata": {
  "kernelspec": {
   "display_name": "Python 3",
   "language": "python",
   "name": "python3"
  },
  "language_info": {
   "codemirror_mode": {
    "name": "ipython",
    "version": 3
   },
   "file_extension": ".py",
   "mimetype": "text/x-python",
   "name": "python",
   "nbconvert_exporter": "python",
   "pygments_lexer": "ipython3",
   "version": "3.5.3"
  }
 },
 "nbformat": 4,
 "nbformat_minor": 1
}
