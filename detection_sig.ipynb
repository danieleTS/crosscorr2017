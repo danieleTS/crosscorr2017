{
 "cells": [
  {
   "cell_type": "markdown",
   "metadata": {},
   "source": [
    "# Estimating the Detection Significance of Galaxy-Forest Cross-Correlations\n",
    "\n",
    "Read in cross-correlatiuons, covariance matrices and null samples"
   ]
  },
  {
   "cell_type": "code",
   "execution_count": 12,
   "metadata": {},
   "outputs": [],
   "source": [
    "import numpy as np\n",
    "import copy\n",
    "import time as time\n",
    "import lyafxcorr_kg as xcorr\n",
    "import os.path\n",
    "\n",
    "from astropy.cosmology import FlatLambdaCDM\n",
    "from astropy.io import fits\n",
    "from astropy.io import ascii\n",
    "from astropy.table import Table\n",
    "from astropy import units as u\n",
    "\n",
    "# Set up matplotlib and use a nicer set of plot parameters\n",
    "%config InlineBackend.rc = {}\n",
    "import matplotlib as mpl\n",
    "mpl.rc('mathtext',fontset='stixsans')\n",
    "mpl.rc('figure', facecolor=\"white\")\n",
    "#matplotlib.rc_file(\"../../templates/matplotlibrc\")\n",
    "import matplotlib.pyplot as plt\n",
    "import matplotlib.colors as colors\n",
    "%matplotlib inline\n",
    "\n",
    "# Define cosmology\n",
    "cosmo = FlatLambdaCDM(H0=70, Om0=0.31)\n",
    "\n",
    "# Cross-correlation measurements\n",
    "XCorr_3d = np.load(\"xcorr_3dhst_v0.npy\")\n",
    "XCorr_zD = np.load(\"xcorr_zDeep_v0.npy\")\n",
    "XCorr_mosdef = np.load(\"xcorr_mosdef_v0.npy\")\n",
    "XCorr_vuds = np.load(\"xcorr_vuds_v0.npy\")\n",
    "XCorr_clamato = np.load(\"xcorr_clamato_v0.npy\")\n",
    "\n",
    "XNull_3d = np.load(\"xcorr_rand_3dhst_v0.npy\")\n",
    "XNull_zD = np.load(\"xcorr_rand_zDeep_v0.npy\")\n",
    "XNull_mosdef = np.load(\"xcorr_rand_mosdef_v0.npy\")\n",
    "XNull_vuds  = np.load(\"xcorr_rand_vuds_v0.npy\")\n",
    "XNull_clamato  = np.load(\"xcorr_rand_clamato_v0.npy\")\n",
    "\n",
    "# Load covariances\n",
    "Covar_3d = np.load(\"covar_3dhst_n6400_v0.npy\")    \n",
    "Covar_zD = np.load(\"covar_zDeep_n6400_v0.npy\")\n",
    "Covar_mosdef = np.load(\"covar_mosdef_n6400_v0.npy\")\n",
    "Covar_vuds  = np.load(\"covar_vuds_n6400_v0.npy\")\n",
    "Covar_clamato = np.load(\"covar_clamato_n6400_v0.npy\")\n",
    "\n",
    "# Read in bin edges\n",
    "PiBin_fil = 'bins16_pi_0-40hMpc.txt'\n",
    "SigBin_fil = 'bins10_sigma_0-30hMpc.txt'\n",
    "\n",
    "PiBins0 = ascii.read(PiBin_fil)\n",
    "SigBins0 = ascii.read(SigBin_fil)\n",
    "\n",
    "PiEdges = PiBins0['pi_edges'].data\n",
    "SigEdges = SigBins0['sigma_edges'].data\n",
    "\n",
    "# Convert bin boundaries from Mpc/h to Mpc\n",
    "PiEdges  = PiEdges/(len(PiEdges)*[cosmo.h])\n",
    "SigEdges = SigEdges/(len(SigEdges)*[cosmo.h])\n"
   ]
  },
  {
   "cell_type": "markdown",
   "metadata": {},
   "source": [
    "Plot matrix diagonals"
   ]
  },
  {
   "cell_type": "code",
   "execution_count": 13,
   "metadata": {},
   "outputs": [
    {
     "data": {
      "image/png": "[encoded data removed]",
      "text/plain": [
       "<matplotlib.figure.Figure at 0x7f2a8b502cf8>"
      ]
     },
     "metadata": {},
     "output_type": "display_data"
    }
   ],
   "source": [
    "# Plot diagonals of the covariance matrices\n",
    "DiagCov3d = Covar_3d.diagonal()\n",
    "DiagCovzD = np.diagonal(Covar_zD)\n",
    "DiagCovMOS = np.diagonal(Covar_mosdef)\n",
    "\n",
    "NbinX, NbinY = XCorr_3d.shape\n",
    "DiagCov3d = DiagCov3d.reshape([NbinX, NbinY])\n",
    "DiagCovzD = DiagCovzD.reshape([NbinX, NbinY])\n",
    "DiagCovMOS = DiagCovMOS.reshape([NbinX, NbinY])\n",
    "\n",
    "X, Y = np.meshgrid(SigEdges, PiEdges)\n",
    "\n",
    "SigMax = 35.\n",
    "PiMin = -50.\n",
    "PiMax = 50.\n",
    "\n",
    "fig, (ax1, ax2, ax3)= plt.subplots(1,3, figsize=(14,7))\n",
    "\n",
    "pcm=ax1.pcolormesh(X, Y, DiagCovMOS.transpose(),cmap='gray_r'\n",
    "                  ,norm=colors.LogNorm(vmin=1.e-3, vmax=0.2))\n",
    "ax1.set_aspect('equal')\n",
    "ax1.set_xlim(np.min(X), SigMax)\n",
    "ax1.set_ylim(PiMin, PiMax)\n",
    "ax1.set_xlabel(r'$\\sigma\\; (\\mathrm{cMpc})$')\n",
    "ax1.set_ylabel(r'$\\pi\\; (\\mathrm{cMpc})$')\n",
    "ax1.set_title(\"MOSDEF Covariance\")\n",
    "#fig.colorbar(pcm, ax=ax1)\n",
    "\n",
    "pcm=ax2.pcolormesh(X, Y, DiagCovzD.transpose(),cmap='gray_r'\n",
    "                   ,norm=colors.LogNorm(vmin=1.e-3, vmax=0.2))\n",
    "ax2.set_aspect('equal')\n",
    "ax2.set_xlim(np.min(X), SigMax)\n",
    "ax2.set_ylim(PiMin, PiMax)\n",
    "ax2.set_xlabel(r'$\\sigma\\; (\\mathrm{cMpc})$')\n",
    "ax2.set_ylabel(r'$\\pi\\; (\\mathrm{cMpc})$')\n",
    "ax2.set_title(\"zCOSMOS Covariance\")\n",
    "#fig.colorbar(pcm, ax=ax2)\n",
    "\n",
    "pcm=ax3.pcolormesh(X, Y, DiagCov3d.transpose(),cmap='gray_r'\n",
    "                   ,norm=colors.LogNorm(vmin=1.e-2, vmax=0.2))\n",
    "ax3.set_aspect('equal')\n",
    "ax3.set_xlim(np.min(X), SigMax)\n",
    "ax3.set_ylim(PiMin, PiMax)\n",
    "ax3.set_xlabel(r'$\\sigma\\; (\\mathrm{cMpc})$')\n",
    "ax3.set_ylabel(r'$\\pi\\; (\\mathrm{cMpc})$')\n",
    "ax3.set_title(\"3DHST Covariance\")\n",
    "\n",
    "fig.colorbar(pcm, ax=ax3)\n",
    "\n",
    "#fig.subplots_adjust(wspace=-0.1)\n",
    "\n",
    "plt.show()"
   ]
  },
  {
   "cell_type": "markdown",
   "metadata": {},
   "source": [
    "### Estimate MOSDEF Detection Significance"
   ]
  },
  {
   "cell_type": "code",
   "execution_count": 14,
   "metadata": {},
   "outputs": [
    {
     "name": "stdout",
     "output_type": "stream",
     "text": [
      "Condition number =  4803.17465756\n",
      "[ 1.  1.  1.  1.  1.  1.  1.  1.  1.  1.  1.  1.  1.  1.  1.  1.  1.  1.\n",
      "  1.  1.  1.  1.  1.  1.  1.  1.  1.  1.  1.  1.  1.  1.  1.  1.  1.  1.\n",
      "  1.  1.  1.  1.  1.  1.  1.  1.  1.  1.  1.  1.  1.  1.  1.  1.  1.  1.\n",
      "  1.  1.  1.  1.  1.  1.  1.  1.  1.  1.  1.  1.  1.  1.  1.  1.  1.  1.\n",
      "  1.  1.  1.  1.  1.  1.  1.  1.  1.  1.  1.  1.  1.  1.  1.  1.  1.  1.\n",
      "  1.  1.  1.  1.  1.  1.  1.  1.  1.  1.  1.  1.  1.  1.  1.  1.  1.  1.\n",
      "  1.  1.  1.  1.  1.  1.  1.  1.  1.  1.  1.  1.  1.  1.  1.  1.  1.  1.\n",
      "  1.  1.  1.  1.  1.  1.  1.  1.  1.  1.  1.  1.  1.  1.  1.  1.  1.  1.]\n",
      "144.0\n",
      "1.0\n",
      "(144,)\n",
      "-ln(L) =  97.7196635956\n",
      "Detection significance = 9.885326 sigma\n"
     ]
    }
   ],
   "source": [
    "Cov = Covar_mosdef\n",
    "\n",
    "#fig, ax= plt.subplots()\n",
    "\n",
    "#print(Cov.shape)\n",
    "#histdata= Cov.reshape(Cov.size)\n",
    "#binwidth=0.001\n",
    "#ax.hist(histdata, bins=np.arange(-0.02,0.02 + binwidth, binwidth))\n",
    "\n",
    "#plt.show()\n",
    "\n",
    "print(\"Condition number = \", np.linalg.cond(Cov))\n",
    "\n",
    "# Invert the covariance matrix, and see if it's a reasonable inversion\n",
    "InvCov = np.linalg.pinv(Cov)\n",
    "\n",
    "UniMat = np.dot(Cov,InvCov)\n",
    "\n",
    "print(UniMat.diagonal())\n",
    "\n",
    "#print(UniMat[10:15, 10:15])\n",
    "print(np.trace(UniMat))\n",
    "print(np.linalg.det(UniMat))\n",
    "\n",
    "# This is the vector of data - model (in this case the randoms)\n",
    "DeltaVec = XCorr_mosdef.reshape(XCorr_mosdef.size) - XNull_mosdef.reshape(XNull_mosdef.size)\n",
    "print(DeltaVec.shape)\n",
    "\n",
    "minusLogL = 0.5 * np.dot(DeltaVec.transpose(), np.dot(InvCov, DeltaVec))\n",
    "print(\"-ln(L) = \", 0.5 * np.dot(DeltaVec.transpose(), np.dot(InvCov, DeltaVec)))\n",
    "\n",
    "print(\"Detection significance = %f sigma\" % np.sqrt(minusLogL))\n",
    "signif_mosdef = np.sqrt(minusLogL)"
   ]
  },
  {
   "cell_type": "markdown",
   "metadata": {},
   "source": [
    "### Estimate CLAMATO Detection Significance"
   ]
  },
  {
   "cell_type": "code",
   "execution_count": 15,
   "metadata": {},
   "outputs": [
    {
     "name": "stdout",
     "output_type": "stream",
     "text": [
      "Condition number =  3510.87687422\n",
      "[ 1.  1.  1.  1.  1.  1.  1.  1.  1.  1.  1.  1.  1.  1.  1.  1.  1.  1.\n",
      "  1.  1.  1.  1.  1.  1.  1.  1.  1.  1.  1.  1.  1.  1.  1.  1.  1.  1.\n",
      "  1.  1.  1.  1.  1.  1.  1.  1.  1.  1.  1.  1.  1.  1.  1.  1.  1.  1.\n",
      "  1.  1.  1.  1.  1.  1.  1.  1.  1.  1.  1.  1.  1.  1.  1.  1.  1.  1.\n",
      "  1.  1.  1.  1.  1.  1.  1.  1.  1.  1.  1.  1.  1.  1.  1.  1.  1.  1.\n",
      "  1.  1.  1.  1.  1.  1.  1.  1.  1.  1.  1.  1.  1.  1.  1.  1.  1.  1.\n",
      "  1.  1.  1.  1.  1.  1.  1.  1.  1.  1.  1.  1.  1.  1.  1.  1.  1.  1.\n",
      "  1.  1.  1.  1.  1.  1.  1.  1.  1.  1.  1.  1.  1.  1.  1.  1.  1.  1.]\n",
      "1.0\n",
      "(144,)\n",
      "-ln(L) =  63.1746646675\n",
      "Detection significance = 7.948249 sigma\n"
     ]
    }
   ],
   "source": [
    "Cov = Covar_clamato\n",
    "\n",
    "print(\"Condition number = \", np.linalg.cond(Cov))\n",
    "\n",
    "# Invert the covariance matrix, and see if it's a reasonable inversion\n",
    "InvCov = np.linalg.pinv(Cov)\n",
    "\n",
    "UniMat = np.dot(Cov,InvCov)\n",
    "\n",
    "print(UniMat.diagonal())\n",
    "\n",
    "#print(UniMat[10:15, 10:15])\n",
    "#print(np.trace(UniMat))\n",
    "print(np.linalg.det(UniMat))\n",
    "\n",
    "# This is the vector of data - model (in this case the randoms)\n",
    "DeltaVec = XCorr_clamato.reshape(XCorr_clamato.size) - \\\n",
    "XNull_clamato.reshape(XNull_clamato.size)\n",
    "print(DeltaVec.shape)\n",
    "\n",
    "minusLogL = 0.5 * np.dot(DeltaVec.transpose(), np.dot(InvCov, DeltaVec))\n",
    "print(\"-ln(L) = \", 0.5 * np.dot(DeltaVec.transpose(), np.dot(InvCov, DeltaVec)))\n",
    "\n",
    "print(\"Detection significance = %f sigma\" % np.sqrt(minusLogL))\n",
    "signif_clamato = np.sqrt(minusLogL)"
   ]
  },
  {
   "cell_type": "markdown",
   "metadata": {},
   "source": [
    "### Estimate zCOSMOS-Deep Detection Significance"
   ]
  },
  {
   "cell_type": "code",
   "execution_count": 16,
   "metadata": {},
   "outputs": [
    {
     "name": "stdout",
     "output_type": "stream",
     "text": [
      "Condition number =  11242.8230829\n",
      "[ 1.  1.  1.  1.  1.  1.  1.  1.  1.  1.  1.  1.  1.  1.  1.  1.  1.  1.\n",
      "  1.  1.  1.  1.  1.  1.  1.  1.  1.  1.  1.  1.  1.  1.  1.  1.  1.  1.\n",
      "  1.  1.  1.  1.  1.  1.  1.  1.  1.  1.  1.  1.  1.  1.  1.  1.  1.  1.\n",
      "  1.  1.  1.  1.  1.  1.  1.  1.  1.  1.  1.  1.  1.  1.  1.  1.  1.  1.\n",
      "  1.  1.  1.  1.  1.  1.  1.  1.  1.  1.  1.  1.  1.  1.  1.  1.  1.  1.\n",
      "  1.  1.  1.  1.  1.  1.  1.  1.  1.  1.  1.  1.  1.  1.  1.  1.  1.  1.\n",
      "  1.  1.  1.  1.  1.  1.  1.  1.  1.  1.  1.  1.  1.  1.  1.  1.  1.  1.\n",
      "  1.  1.  1.  1.  1.  1.  1.  1.  1.  1.  1.  1.  1.  1.  1.  1.  1.  1.]\n",
      "1.0\n",
      "(144,)\n",
      "-ln(L) =  79.7465296427\n",
      "Detection significance = 8.930091 sigma\n"
     ]
    }
   ],
   "source": [
    "Cov = Covar_zD\n",
    "\n",
    "print(\"Condition number = \", np.linalg.cond(Cov))\n",
    "\n",
    "# Invert the covariance matrix, and see if it's a reasonable inversion\n",
    "InvCov = np.linalg.pinv(Cov)\n",
    "\n",
    "UniMat = np.dot(Cov,InvCov)\n",
    "\n",
    "print(UniMat.diagonal())\n",
    "\n",
    "#print(UniMat[10:15, 10:15])\n",
    "#print(np.trace(UniMat))\n",
    "print(np.linalg.det(UniMat))\n",
    "\n",
    "# This is the vector of data - model (in this case the randoms)\n",
    "DeltaVec = XCorr_zD.reshape(XCorr_zD.size) - XNull_zD.reshape(XNull_zD.size)\n",
    "print(DeltaVec.shape)\n",
    "\n",
    "minusLogL = 0.5 * np.dot(DeltaVec.transpose(), np.dot(InvCov, DeltaVec))\n",
    "print(\"-ln(L) = \", 0.5 * np.dot(DeltaVec.transpose(), np.dot(InvCov, DeltaVec)))\n",
    "\n",
    "print(\"Detection significance = %f sigma\" % np.sqrt(minusLogL))\n",
    "signif_zD = np.sqrt(minusLogL)"
   ]
  },
  {
   "cell_type": "markdown",
   "metadata": {},
   "source": [
    "### Estimate VUDS Detection Significance"
   ]
  },
  {
   "cell_type": "code",
   "execution_count": 17,
   "metadata": {},
   "outputs": [
    {
     "name": "stdout",
     "output_type": "stream",
     "text": [
      "Condition number =  5786.00086571\n",
      "[ 1.  1.  1.  1.  1.  1.  1.  1.  1.  1.  1.  1.  1.  1.  1.  1.  1.  1.\n",
      "  1.  1.  1.  1.  1.  1.  1.  1.  1.  1.  1.  1.  1.  1.  1.  1.  1.  1.\n",
      "  1.  1.  1.  1.  1.  1.  1.  1.  1.  1.  1.  1.  1.  1.  1.  1.  1.  1.\n",
      "  1.  1.  1.  1.  1.  1.  1.  1.  1.  1.  1.  1.  1.  1.  1.  1.  1.  1.\n",
      "  1.  1.  1.  1.  1.  1.  1.  1.  1.  1.  1.  1.  1.  1.  1.  1.  1.  1.\n",
      "  1.  1.  1.  1.  1.  1.  1.  1.  1.  1.  1.  1.  1.  1.  1.  1.  1.  1.\n",
      "  1.  1.  1.  1.  1.  1.  1.  1.  1.  1.  1.  1.  1.  1.  1.  1.  1.  1.\n",
      "  1.  1.  1.  1.  1.  1.  1.  1.  1.  1.  1.  1.  1.  1.  1.  1.  1.  1.]\n",
      "1.0\n",
      "(144,)\n",
      "-ln(L) =  54.5941586736\n",
      "Detection significance = 7.388786 sigma\n"
     ]
    }
   ],
   "source": [
    "Cov = Covar_vuds\n",
    "\n",
    "print(\"Condition number = \", np.linalg.cond(Cov))\n",
    "\n",
    "# Invert the covariance matrix, and see if it's a reasonable inversion\n",
    "InvCov = np.linalg.pinv(Cov)\n",
    "\n",
    "UniMat = np.dot(Cov,InvCov)\n",
    "\n",
    "print(UniMat.diagonal())\n",
    "\n",
    "#print(UniMat[10:15, 10:15])\n",
    "#print(np.trace(UniMat))\n",
    "print(np.linalg.det(UniMat))\n",
    "\n",
    "# This is the vector of data - model (in this case the randoms)\n",
    "DeltaVec = XCorr_vuds.reshape(XCorr_vuds.size) - XNull_vuds.reshape(XNull_vuds.size)\n",
    "print(DeltaVec.shape)\n",
    "\n",
    "minusLogL = 0.5 * np.dot(DeltaVec.transpose(), np.dot(InvCov, DeltaVec))\n",
    "print(\"-ln(L) = \", 0.5 * np.dot(DeltaVec.transpose(), np.dot(InvCov, DeltaVec)))\n",
    "\n",
    "print(\"Detection significance = %f sigma\" % np.sqrt(minusLogL))\n",
    "signif_vuds = np.sqrt(minusLogL)"
   ]
  },
  {
   "cell_type": "markdown",
   "metadata": {},
   "source": [
    "### Estimate 3D-HST Detection Significance"
   ]
  },
  {
   "cell_type": "code",
   "execution_count": 18,
   "metadata": {},
   "outputs": [
    {
     "name": "stdout",
     "output_type": "stream",
     "text": [
      "Condition number =  7708.81896593\n",
      "[ 1.  1.  1.  1.  1.  1.  1.  1.  1.  1.  1.  1.  1.  1.  1.  1.  1.  1.\n",
      "  1.  1.  1.  1.  1.  1.  1.  1.  1.  1.  1.  1.  1.  1.  1.  1.  1.  1.\n",
      "  1.  1.  1.  1.  1.  1.  1.  1.  1.  1.  1.  1.  1.  1.  1.  1.  1.  1.\n",
      "  1.  1.  1.  1.  1.  1.  1.  1.  1.  1.  1.  1.  1.  1.  1.  1.  1.  1.\n",
      "  1.  1.  1.  1.  1.  1.  1.  1.  1.  1.  1.  1.  1.  1.  1.  1.  1.  1.\n",
      "  1.  1.  1.  1.  1.  1.  1.  1.  1.  1.  1.  1.  1.  1.  1.  1.  1.  1.\n",
      "  1.  1.  1.  1.  1.  1.  1.  1.  1.  1.  1.  1.  1.  1.  1.  1.  1.  1.\n",
      "  1.  1.  1.  1.  1.  1.  1.  1.  1.  1.  1.  1.  1.  1.  1.  1.  1.  1.]\n",
      "1.0\n",
      "(144,)\n",
      "-ln(L) =  45.2519396273\n",
      "Detection significance = 6.726956 sigma\n"
     ]
    }
   ],
   "source": [
    "Cov = Covar_3d\n",
    "\n",
    "print(\"Condition number = \", np.linalg.cond(Cov))\n",
    "\n",
    "# Invert the covariance matrix, and see if it's a reasonable inversion\n",
    "InvCov = np.linalg.pinv(Cov)\n",
    "\n",
    "UniMat = np.dot(Cov,InvCov)\n",
    "\n",
    "print(UniMat.diagonal())\n",
    "\n",
    "#print(UniMat[10:15, 10:15])\n",
    "#print(np.trace(UniMat))\n",
    "print(np.linalg.det(UniMat))\n",
    "\n",
    "# This is the vector of data - model (in this case the randoms)\n",
    "DeltaVec = XCorr_3d.reshape(XCorr_3d.size) - XNull_3d.reshape(XNull_3d.size)\n",
    "print(DeltaVec.shape)\n",
    "\n",
    "minusLogL = 0.5 * np.dot(DeltaVec.transpose(), np.dot(InvCov, DeltaVec))\n",
    "print(\"-ln(L) = \", 0.5 * np.dot(DeltaVec.transpose(), np.dot(InvCov, DeltaVec)))\n",
    "\n",
    "print(\"Detection significance = %f sigma\" % np.sqrt(minusLogL))\n",
    "signif_3d = np.sqrt(minusLogL)"
   ]
  },
  {
   "cell_type": "code",
   "execution_count": 19,
   "metadata": {},
   "outputs": [
    {
     "name": "stdout",
     "output_type": "stream",
     "text": [
      "Overall Detection Significance=18.452289 sigma\n"
     ]
    }
   ],
   "source": [
    "print(\"Overall Detection Significance=%f sigma\" % \n",
    "      np.sqrt(signif_mosdef**2 + signif_zD**2 + signif_clamato**2 +\n",
    "              signif_vuds**2 + signif_3d**2))"
   ]
  },
  {
   "cell_type": "markdown",
   "metadata": {},
   "source": [
    "Just experimenting with matrix inversion here..."
   ]
  },
  {
   "cell_type": "code",
   "execution_count": 20,
   "metadata": {},
   "outputs": [
    {
     "name": "stdout",
     "output_type": "stream",
     "text": [
      "Condition number = 1775.7423845\n",
      "[[ -6.22255526e-01  -2.94226977e+00  -1.62382621e+00   1.72866087e+00\n",
      "   -2.61493847e+00  -5.40061454e-01   2.18531567e+00   3.80685811e+00\n",
      "   -5.48811614e-01   1.51163377e+00]\n",
      " [  2.26850403e+00  -9.43241374e+00  -5.07734657e+00   8.20451154e+00\n",
      "   -4.21554269e+00  -5.91997990e+00   4.69999657e+00   1.77764052e+01\n",
      "   -6.15481732e+00   3.20763461e-02]\n",
      " [  1.74769069e+01  -7.06441532e+01  -2.59550353e+01   5.77752035e+01\n",
      "   -2.59893774e+01  -4.14235418e+01   2.83907847e+01   1.21914936e+02\n",
      "   -5.02208934e+01   7.46904171e+00]\n",
      " [  1.29085131e+01  -5.14040593e+01  -1.87261821e+01   4.00067124e+01\n",
      "   -1.90197873e+01  -3.05188247e+01   2.01871172e+01   8.84860223e+01\n",
      "   -3.44076568e+01   6.13732845e+00]\n",
      " [  3.09488821e+00  -1.46078955e+01  -6.19793330e+00   9.63526432e+00\n",
      "   -6.15672775e+00  -7.33307353e+00   5.21388998e+00   2.45069623e+01\n",
      "   -7.09758777e+00   2.62807992e+00]\n",
      " [  4.56368354e+00  -2.34176427e+01  -9.29207723e+00   1.85705422e+01\n",
      "   -9.97588311e+00  -1.24782452e+01   1.00293566e+01   3.97360996e+01\n",
      "   -1.46298743e+01   3.10634077e+00]\n",
      " [  8.33794015e+00  -4.50435563e+01  -1.51145306e+01   3.52235331e+01\n",
      "   -1.81932926e+01  -2.29880460e+01   1.70216359e+01   7.36367825e+01\n",
      "   -2.96793468e+01   7.58414409e+00]\n",
      " [  4.33208828e+00  -1.66742298e+01  -7.73183190e+00   1.43763931e+01\n",
      "   -6.28077709e+00  -1.03662175e+01   7.67686539e+00   3.04883942e+01\n",
      "   -1.15761567e+01   4.21075744e-01]\n",
      " [  1.09369939e+01  -4.46012617e+01  -1.64903690e+01   3.55477094e+01\n",
      "   -1.60458292e+01  -2.65385867e+01   1.80504719e+01   7.68021921e+01\n",
      "   -3.03790544e+01   4.68716308e+00]\n",
      " [ -8.99082783e+00   3.15858075e+01   1.00691256e+01  -2.74280489e+01\n",
      "    9.66978577e+00   2.03663358e+01  -1.27378409e+01  -5.57268397e+01\n",
      "    2.57609706e+01  -2.16836955e+00]]\n",
      "0.324640851542\n",
      "1.0\n"
     ]
    }
   ],
   "source": [
    "A=np.random.rand(10,10)\n",
    "print(\"Condition number =\", np.linalg.cond(A))\n",
    "u,s,v=np.linalg.svd(A)\n",
    "Ainv=np.dot(v,np.dot(np.diag(s**-1),u.transpose()))\n",
    "#Ainv = np.linalg.pinv(A)\n",
    "\n",
    "UniMat= np.dot(A, Ainv)\n",
    "\n",
    "print(UniMat)\n",
    "\n",
    "print(np.trace(UniMat))\n",
    "print(np.linalg.det(UniMat))"
   ]
  },
  {
   "cell_type": "markdown",
   "metadata": {
    "collapsed": true
   },
   "source": [
    "### Sanity Check: Comparing Different Null Realizations"
   ]
  },
  {
   "cell_type": "markdown",
   "metadata": {},
   "source": [
    "# Read in a few null measurements\n",
    "XNull_0 = np.load(\"xcorr_rand0_zDeep_v0.npy\")\n",
    "XNull_1 = np.load(\"xcorr_rand1_zDeep_v0.npy\")\n",
    "XNull_2 = np.load(\"xcorr_rand2_zDeep_v0.npy\")\n",
    "\n",
    "Cov = Covar_mosdef\n",
    "DiagCov = Cov.diagonal()\n",
    "InvCov = np.linalg.pinv(Cov)\n",
    "\n",
    "Delta0 = XNull_0.reshape(XNull_0.size) - XNull_mosdef.reshape(XNull_zD.size)\n",
    "Delta1 = XNull_1.reshape(XNull_1.size) - XNull_mosdef.reshape(XNull_zD.size)\n",
    "Delta2 = XNull_2.reshape(XNull_2.size) - XNull_mosdef.reshape(XNull_zD.size)\n",
    "\n",
    "print(Delta0.shape, DiagCov.shape)\n",
    "\n",
    "ChiSqDiag0 = np.reshape(Delta0**2/DiagCov, XNull_0.shape)\n",
    "ChiSqDiag1 = np.reshape(Delta1**2/DiagCov, XNull_0.shape)\n",
    "ChiSqDiag2 = np.reshape(Delta2**2/DiagCov, XNull_0.shape)\n",
    "\n",
    "print(\"-ln(L)_0 = \", 0.5 * np.dot(Delta0.transpose(), np.dot(InvCov, Delta0)))\n",
    "print(\"-ln(L)_1 = \", 0.5 * np.dot(Delta1.transpose(), np.dot(InvCov, Delta1)))\n",
    "print(\"-ln(L)_2 = \", 0.5 * np.dot(Delta2.transpose(), np.dot(InvCov, Delta2)))\n",
    "\n",
    "X, Y = np.meshgrid(SigEdges, PiEdges)\n",
    "\n",
    "SigMax = 35.\n",
    "PiMin = -50.\n",
    "PiMax = 50.\n",
    "\n",
    "fig, (ax1, ax2, ax3)= plt.subplots(1,3, figsize=(14,7))\n",
    "\n",
    "ax1.pcolormesh(X, Y, ChiSqDiag0.transpose(), cmap='gray_r' )\n",
    "ax1.set_aspect('equal')\n",
    "ax1.set_xlim(np.min(X), SigMax)\n",
    "ax1.set_ylim(PiMin, PiMax)\n",
    "ax1.set_xlabel(r'$\\sigma\\; (\\mathrm{cMpc})$')\n",
    "ax1.set_ylabel(r'$\\pi\\; (\\mathrm{cMpc})$')\n",
    "#ax1.set_title(\"MOSDEF: %i galaxies\" % len(gal_mosdef))\n",
    "\n",
    "ax2.pcolormesh(X, Y, ChiSqDiag1.transpose(), cmap='gray_r')\n",
    "ax2.set_aspect('equal')\n",
    "ax2.set_xlim(np.min(X), SigMax)\n",
    "ax2.set_ylim(PiMin, PiMax)\n",
    "ax2.set_xlabel(r'$\\sigma\\; (\\mathrm{cMpc})$')\n",
    "ax2.set_ylabel(r'$\\pi\\; (\\mathrm{cMpc})$')\n",
    "#ax2.set_title(\"zCOSMOS: %i galaxies\" % len(gal_zD))\n",
    "\n",
    "pcm=ax3.pcolormesh(X, Y, ChiSqDiag2.transpose(), cmap='gray_r')\n",
    "ax3.set_aspect('equal')\n",
    "ax3.set_xlim(np.min(X), SigMax)\n",
    "ax3.set_ylim(PiMin, PiMax)\n",
    "ax3.set_xlabel(r'$\\sigma\\; (\\mathrm{cMpc})$')\n",
    "ax3.set_ylabel(r'$\\pi\\; (\\mathrm{cMpc})$')\n",
    "#ax3.set_title(\"3DHST: %i galaxies\" % len(gal_3d))\n",
    "\n",
    "fig.colorbar(pcm, ax=ax3)\n",
    "\n",
    "#fig.subplots_adjust(wspace=-0.1)\n",
    "\n",
    "plt.show()"
   ]
  },
  {
   "cell_type": "markdown",
   "metadata": {},
   "source": [
    "The individual null samples are inconsistent with the mean null, when using the covariance matrix. But the latter is determined from the data, so perhaps this makes sense? In other words, the actual data covariances are smaller than would be present from a null sample of the same size?"
   ]
  },
  {
   "cell_type": "code",
   "execution_count": null,
   "metadata": {
    "collapsed": true
   },
   "outputs": [],
   "source": []
  }
 ],
 "metadata": {
  "kernelspec": {
   "display_name": "Python 3",
   "language": "python",
   "name": "python3"
  },
  "language_info": {
   "codemirror_mode": {
    "name": "ipython",
    "version": 3
   },
   "file_extension": ".py",
   "mimetype": "text/x-python",
   "name": "python",
   "nbconvert_exporter": "python",
   "pygments_lexer": "ipython3",
   "version": "3.5.3"
  }
 },
 "nbformat": 4,
 "nbformat_minor": 1
}
